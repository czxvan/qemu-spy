{
 "cells": [
  {
   "cell_type": "code",
   "execution_count": null,
   "metadata": {},
   "outputs": [],
   "source": [
    "import requests"
   ]
  },
  {
   "cell_type": "markdown",
   "metadata": {},
   "source": [
    "## Web Check"
   ]
  },
  {
   "cell_type": "code",
   "execution_count": null,
   "metadata": {},
   "outputs": [],
   "source": [
    "requests.get(\"http://127.0.0.1:2443\")"
   ]
  },
  {
   "cell_type": "code",
   "execution_count": null,
   "metadata": {},
   "outputs": [],
   "source": [
    "requests.get(\"http://127.0.0.1:2443\", verify=False)"
   ]
  },
  {
   "cell_type": "code",
   "execution_count": null,
   "metadata": {},
   "outputs": [],
   "source": [
    "requests.get(\"http://127.0.0.1:28080\").text"
   ]
  },
  {
   "cell_type": "code",
   "execution_count": null,
   "metadata": {},
   "outputs": [],
   "source": [
    "requests.get(\"http://127.0.0.1:18080\").text"
   ]
  },
  {
   "cell_type": "code",
   "execution_count": null,
   "metadata": {},
   "outputs": [],
   "source": [
    "requests.get(\"http://127.0.0.1:18080/count\").text"
   ]
  },
  {
   "cell_type": "markdown",
   "metadata": {},
   "source": [
    "## Pipe Check"
   ]
  },
  {
   "cell_type": "code",
   "execution_count": null,
   "metadata": {},
   "outputs": [],
   "source": [
    "import os\n",
    "import time\n",
    "import signal\n",
    "CTL_READ_FD = 198\n",
    "STATE_WRITE_FD = 199"
   ]
  },
  {
   "cell_type": "code",
   "execution_count": null,
   "metadata": {},
   "outputs": [],
   "source": [
    "\n",
    "ctl_rfd, ctl_wfd = os.pipe()\n",
    "state_rfd, state_wfd = os.pipe()\n",
    "pid = os.fork()\n",
    "if pid == 0:\n",
    "    os.dup2(ctl_rfd, CTL_READ_FD)\n",
    "    os.dup2(state_wfd, STATE_WRITE_FD)\n",
    "    os.close(ctl_rfd)\n",
    "    os.close(ctl_wfd)\n",
    "    os.close(state_rfd)\n",
    "    os.close(state_wfd)\n",
    "    KERN=\"/home/czx/openbmc-workspace/openbmc/build/romulus/tmp/deploy/images/romulus\"\n",
    "    os.execve('/usr/bin/gdbserver', \n",
    "                ['/usr/bin/gdbserver', '127.0.0.1:1234',\n",
    "                '/home/czx/qemu-workspace/qemu-spy/build/qemu-system-arm',\n",
    "                '-m', '256M', '-M', 'romulus-bmc',\n",
    "                '-drive', f'file={KERN}/obmc-phosphor-image-romulus.static.mtd,if=mtd,format=raw',\n",
    "                '-net', 'nic',\n",
    "                '-net', 'user,hostfwd=:127.0.0.1:2222-:22,hostfwd=:127.0.0.1:2443-:443,hostfwd=:127.0.0.1:18080-:8080,hostfwd=udp:127.0.0.1:2623-:623,hostname=qemu',\n",
    "                '-d', 'plugin',\n",
    "                '-plugin', '../build/libaflspy.so',\n",
    "                '-D', 'qemu_log.txt',\n",
    "                '-nographic'], {})"
   ]
  },
  {
   "cell_type": "code",
   "execution_count": null,
   "metadata": {},
   "outputs": [],
   "source": [
    "os.read(state_rfd, 5)"
   ]
  },
  {
   "cell_type": "code",
   "execution_count": null,
   "metadata": {},
   "outputs": [],
   "source": [
    "os.write(ctl_wfd, b\"fork\")"
   ]
  },
  {
   "cell_type": "code",
   "execution_count": null,
   "metadata": {},
   "outputs": [],
   "source": [
    "s = os.read(state_rfd, 5)\n",
    "if s == b'ready':\n",
    "    print(\"子进程: \", s)\n",
    "    os.write(ctl_wfd, b'good\\n')"
   ]
  },
  {
   "cell_type": "code",
   "execution_count": null,
   "metadata": {},
   "outputs": [],
   "source": [
    "os.write(ctl_wfd, b'stop')"
   ]
  }
 ],
 "metadata": {
  "kernelspec": {
   "display_name": "Python 3",
   "language": "python",
   "name": "python3"
  },
  "language_info": {
   "codemirror_mode": {
    "name": "ipython",
    "version": 3
   },
   "file_extension": ".py",
   "mimetype": "text/x-python",
   "name": "python",
   "nbconvert_exporter": "python",
   "pygments_lexer": "ipython3",
   "version": "3.10.12"
  }
 },
 "nbformat": 4,
 "nbformat_minor": 2
}
